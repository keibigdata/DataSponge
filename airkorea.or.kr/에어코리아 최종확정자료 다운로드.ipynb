{
 "cells": [
  {
   "cell_type": "code",
   "execution_count": 1,
   "metadata": {},
   "outputs": [],
   "source": [
    "import urllib.request\n",
    "from urllib.request import urlretrieve\n",
    "\n",
    "import time\n",
    "import os\n",
    "import shutil\n",
    "\n",
    "from bs4 import BeautifulSoup\n",
    "import pandas as pd"
   ]
  },
  {
   "cell_type": "code",
   "execution_count": 2,
   "metadata": {},
   "outputs": [],
   "source": [
    "dst_url = r'http://www.airkorea.or.kr/last_amb_hour_data'\n",
    "\n",
    "webpage = urllib.request.urlopen(dst_url)\n",
    "contents = webpage.read().decode(\"utf-8\")\n",
    "contents = BeautifulSoup(contents, \"html.parser\")"
   ]
  },
  {
   "cell_type": "code",
   "execution_count": 3,
   "metadata": {},
   "outputs": [
    {
     "data": {
      "text/plain": [
       "[{'URL': 'http://www.airkorea.or.kr/file/download/?atch_id=71690',\n",
       "  '대상': '2017년'},\n",
       " {'URL': 'http://www.airkorea.or.kr/file/download/?atch_id=48522',\n",
       "  '대상': '2016년'},\n",
       " {'URL': 'http://www.airkorea.or.kr/file/download/?atch_id=22060',\n",
       "  '대상': '2015년'},\n",
       " {'URL': 'http://www.airkorea.or.kr/file/download/?atch_id=21627',\n",
       "  '대상': '2014년'}]"
      ]
     },
     "execution_count": 3,
     "metadata": {},
     "output_type": "execute_result"
    }
   ],
   "source": [
    "filelist = contents.select(\"a.file\")\n",
    "\n",
    "realList = [\n",
    "    {\n",
    "        \"대상\": file.text.strip(),\n",
    "        \"URL\": file.attrs.get(\"href\"),\n",
    "    }\n",
    "    for file\n",
    "    in filelist\n",
    "]\n",
    "\n",
    "realList"
   ]
  },
  {
   "cell_type": "code",
   "execution_count": 4,
   "metadata": {},
   "outputs": [
    {
     "name": "stdout",
     "output_type": "stream",
     "text": [
      "에어코리아 최종확정자료 다운로드 작업을 시작합니다.\n",
      "2017년 자료를 다운로드합니다. / http://www.airkorea.or.kr/file/download/?atch_id=71690\n",
      "2016년 자료를 다운로드합니다. / http://www.airkorea.or.kr/file/download/?atch_id=48522\n",
      "2015년 자료를 다운로드합니다. / http://www.airkorea.or.kr/file/download/?atch_id=22060\n",
      "2014년 자료를 다운로드합니다. / http://www.airkorea.or.kr/file/download/?atch_id=21627\n",
      "에어코리아 최종확정자료 다운로드 작업이 완료되었습니다.\n"
     ]
    }
   ],
   "source": [
    "print(\"에어코리아 최종확정자료 다운로드 작업을 시작합니다.\")\n",
    "\n",
    "for file in realList:\n",
    "    fileName = file['대상'] + '.zip'\n",
    "    downloadURL = file['URL']\n",
    "    \n",
    "    print(file['대상'], \"자료를 다운로드합니다.\", \"/\", downloadURL)\n",
    "    \n",
    "    if os.path.isfile(fileName):\n",
    "        print(file['대상'], \"자료가 있습니다. 덮어씌우기 합니다.\")\n",
    "    \n",
    "    urlretrieve(file['URL'], fileName)\n",
    "    \n",
    "print(\"에어코리아 최종확정자료 다운로드 작업이 완료되었습니다.\")"
   ]
  },
  {
   "cell_type": "code",
   "execution_count": null,
   "metadata": {},
   "outputs": [],
   "source": []
  }
 ],
 "metadata": {
  "kernelspec": {
   "display_name": "Python 3",
   "language": "python",
   "name": "python3"
  },
  "language_info": {
   "codemirror_mode": {
    "name": "ipython",
    "version": 3
   },
   "file_extension": ".py",
   "mimetype": "text/x-python",
   "name": "python",
   "nbconvert_exporter": "python",
   "pygments_lexer": "ipython3",
   "version": "3.6.3"
  }
 },
 "nbformat": 4,
 "nbformat_minor": 2
}
